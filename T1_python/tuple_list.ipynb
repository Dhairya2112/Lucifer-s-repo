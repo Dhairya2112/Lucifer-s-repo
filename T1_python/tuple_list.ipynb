{
 "cells": [
  {
   "cell_type": "code",
   "execution_count": null,
   "metadata": {},
   "outputs": [],
   "source": [
    "x=(10,20,30,\"dhruv\",30.0,\"dhairya\")\n",
    "print(type(x)) #<class 'tuple'>\n",
    "print(x.count(30)) #2 finds no of same specific element\n",
    "#for i in x:\n",
    "#    print(i)  \n",
    "#    print(type(i)) #prints class of each value\n",
    "y=eval(input(\"Enter Tuple:\"))\n",
    "for l in y:\n",
    "    print(l)  \n",
    "    print(type(l))"
   ]
  },
  {
   "cell_type": "code",
   "execution_count": null,
   "metadata": {},
   "outputs": [],
   "source": [
    "#sum of odd and even element of tuple\n",
    "x=(1,2,3,4,5)\n",
    "sume=0\n",
    "sumo=0\n",
    "for i in x:\n",
    "    if i%2==0:\n",
    "        sume=sume+i\n",
    "    else:\n",
    "        sumo=sumo+i\n",
    "print(f\"sum of even={sume},sum of odd={sumo}\")"
   ]
  },
  {
   "cell_type": "code",
   "execution_count": null,
   "metadata": {},
   "outputs": [],
   "source": [
    "#deletion in tuple\n",
    "x=(10,20,30,40,50)\n",
    "print(x)\n",
    "print(f\"there are {len(x)} elements in a tuple\")\n",
    "y=int(input(\"which index element you want to delete=\"))\n",
    "print(x[0:y-1]+x[y:])"
   ]
  },
  {
   "cell_type": "code",
   "execution_count": null,
   "metadata": {},
   "outputs": [],
   "source": [
    "#replce in tuple\n",
    "x=(10,20,30,40,50)\n",
    "print(x)\n",
    "print(f\"there are {len(x)} elements in a tuple\")\n",
    "y=int(input(\"which index element you want to replace=\"))\n",
    "z=int(input(\"element you want to replace=\"))\n",
    "print(x[0:y-1]+(z,)+x[y:])"
   ]
  },
  {
   "cell_type": "code",
   "execution_count": null,
   "metadata": {},
   "outputs": [],
   "source": [
    "#insertion at specific tuple index\n",
    "x=(10,20,30,40,50)\n",
    "print(x)\n",
    "print(f\"there are {len(x)} elements in a tuple\")\n",
    "y=int(input(\"which index element you want to insert=\"))\n",
    "z=int(input(\"element you want to insert=\"))\n",
    "print(x[0:y]+(z,)+x[y:])"
   ]
  },
  {
   "cell_type": "code",
   "execution_count": null,
   "metadata": {},
   "outputs": [],
   "source": [
    "x=\"1+2+1+2+3+4+2+1+1+9+2+1+3+2+2\"\n",
    "y=x.split(\"+\")\n",
    "z=sorted(y)\n",
    "ans=\"+\".join(z)\n",
    "print(ans)"
   ]
  },
  {
   "cell_type": "code",
   "execution_count": null,
   "metadata": {},
   "outputs": [],
   "source": [
    "l=[10,20,30,40,50]\n",
    "l.append(60)\n",
    "print(l) #[10, 20, 30, 40, 50, 60]\n",
    "l[0]=500\n",
    "print(l) #[500, 20, 30, 40, 50, 60]\n",
    "del(l[1])\n",
    "print(l) #[500, 30, 40, 50, 60]\n",
    "l.insert(1,100)\n",
    "print(l) #[500, 100, 30, 40, 50, 60]\n",
    "l.sort()\n",
    "print(l) #[30, 40, 50, 60, 100, 500]\n",
    "l.reverse()\n",
    "print(l) #[500, 100, 60, 50, 40, 30]\n",
    "w=l.pop(0)\n",
    "print(w) #500\n",
    "print(l) #[100, 60, 50, 40, 30]\n",
    "#l.clear()"
   ]
  },
  {
   "cell_type": "code",
   "execution_count": null,
   "metadata": {},
   "outputs": [],
   "source": [
    "l1=[1,2,3,4,5]\n",
    "l2=[10,20,30,40,50]\n",
    "l1.extend(l2)\n",
    "print(l1) #[1, 2, 3, 4, 5, 10, 20, 30, 40, 50]"
   ]
  },
  {
   "cell_type": "code",
   "execution_count": 6,
   "metadata": {},
   "outputs": [
    {
     "name": "stdout",
     "output_type": "stream",
     "text": [
      "Enter your name:-t\n",
      "Enter your name:-hu\n",
      "Enter your name:-ha\n",
      "Enter your name:-ba\n",
      "Enter your name:-ta\n",
      "['t', 'hu', 'ha', 'ba', 'ta']\n"
     ]
    }
   ],
   "source": [
    "l=[]\n",
    "for i in range (1,6):\n",
    "    n=input(\"Enter your name:-\")\n",
    "    l.append(n)\n",
    "print(l)"
   ]
  },
  {
   "cell_type": "code",
   "execution_count": 9,
   "metadata": {},
   "outputs": [
    {
     "name": "stdout",
     "output_type": "stream",
     "text": [
      "123456789"
     ]
    }
   ],
   "source": [
    "x=[[1,2,3],[4,5,6],[7,8,9]]\n",
    "for i in x:\n",
    "    for j in i:\n",
    "        print(j,end=\"\") #123456789"
   ]
  },
  {
   "cell_type": "code",
   "execution_count": null,
   "metadata": {},
   "outputs": [],
   "source": []
  }
 ],
 "metadata": {
  "kernelspec": {
   "display_name": "Python 3",
   "language": "python",
   "name": "python3"
  }
 },
 "nbformat": 4,
 "nbformat_minor": 4
}
