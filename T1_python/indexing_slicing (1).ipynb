{
 "cells": [
  {
   "cell_type": "code",
   "execution_count": null,
   "metadata": {},
   "outputs": [],
   "source": [
    "x=\"Happy new year\"\n",
    "print(x[0]) # H\n",
    "print(x[-1]) # r\n",
    "#print(x[-17]) # IndexError\n",
    "print(x[0:5]) # Happy\n",
    "print(x[:]) # Happy new year\n",
    "print(x[0:500])  # Happy new year\n",
    "print(x[6: :10]) # n\n",
    "print(x[-1:-4]) # \n",
    "print(x[-1:-4:-1]) # rae\n",
    "print(x[-1:-10:-2]) # re e\n",
    "print(x[0:-1]) # appy new yea\n",
    "print(x[ : :-1]) # raey wen yppaH\n",
    "print(x[0:len(x):len(x)]) # H\n",
    "print(x[1:-1:-1]) # "
   ]
  },
  {
   "cell_type": "code",
   "execution_count": null,
   "metadata": {},
   "outputs": [],
   "source": [
    "x=input(\"Enter String :\")\n",
    "if len(x)%2==0 :\n",
    "    print(x[0]+x[-1])\n",
    "else :\n",
    "    print(x[-1]+x[1:-1]+x[0])"
   ]
  },
  {
   "cell_type": "code",
   "execution_count": null,
   "metadata": {},
   "outputs": [],
   "source": [
    "x=\"Dhruv Dhoni Virat\"\n",
    "\n",
    "x.count(\"D\") # 2\n",
    "x.count(\"D\",0,2)  # 1\n",
    "x.count(\"x\") # 0\n",
    "\n",
    "print(x.replace(\"Dhruv\",\"@\")) # @ Dhoni Virat\n",
    "print(x.replace(\"D\",\"$\")) # $hruv $honi Virat\n",
    "\n",
    "print(x.split(\"r\")) # ['Dh', 'uv Dhoni Vi', 'at']\n",
    "print(x.split(\"x\")) # ['Dhruv Dhoni Virat']\n",
    "# print(x.split(\"\")) # ValueError\n",
    "print(x.split(\" \")) # ['Dhruv', 'Dhoni', 'Virat']\n",
    "\n",
    "y=\"@\"\n",
    "print(y.join(x)) # D@h@r@u@v@ @D@h@o@n@i@ @V@i@r@a@t\n",
    "print(\"*\".join(x)) # D*h*r*u*v* *D*h*o*n*i* *V*i*r*a*t"
   ]
  },
  {
   "cell_type": "code",
   "execution_count": null,
   "metadata": {},
   "outputs": [],
   "source": [
    "z=\"heLLo HoW\"\n",
    "print(z.upper())  # HELLO HOW\n",
    "print(z.lower())  # hello how\n",
    "print(z.title())  # Hello How\n",
    "print(z.swapcase()) # HEllO hOw\n",
    "print(z.capitalize()) #  Hello how"
   ]
  },
  {
   "cell_type": "code",
   "execution_count": null,
   "metadata": {},
   "outputs": [],
   "source": [
    "x=input(\"Enter String :\")\n",
    "y=x.count(\"a\")\n",
    "if y%2!=0 :\n",
    "    m=x.replace(\"a\",\"@\")\n",
    "    print(m.lower())\n",
    "else :\n",
    "    n=x.split(\"a\")\n",
    "    print(n)\n",
    "    q=x.split(\" \")\n",
    "    print(f\"Total number of characters : {len(x)}\")\n",
    "    print(f\"Total number of words : {len(q)}\")"
   ]
  },
  {
   "cell_type": "code",
   "execution_count": 2,
   "metadata": {},
   "outputs": [
    {
     "name": "stdout",
     "output_type": "stream",
     "text": [
      "String not found\n"
     ]
    }
   ],
   "source": [
    "x=\"Dhruv Dhoni\"\n",
    "if x.find(\"r\")!=-1 :\n",
    "    print(x.find(\"r\")) # returns index of r\n",
    "else :\n",
    "    print(\"r not found\") "
   ]
  },
  {
   "cell_type": "code",
   "execution_count": 16,
   "metadata": {},
   "outputs": [
    {
     "name": "stdout",
     "output_type": "stream",
     "text": [
      "True\n",
      "True\n",
      "True\n",
      "True\n",
      "True\n",
      "True\n",
      "False\n",
      "True\n",
      "False\n"
     ]
    }
   ],
   "source": [
    "a=\"Jayveerprmar\"\n",
    "print(a.isalnum()) # True\n",
    "print(a.isalpha()) # True\n",
    "print(a.istitle()) # True \n",
    "b=\"1324\"\n",
    "print(b.isdigit()) # True\n",
    "print(b.isnumeric()) # True\n",
    "c=\"JSJD\"\n",
    "print(c.isupper()) # True\n",
    "print(c.islower()) #  False\n",
    "\n",
    "d=\" \"\n",
    "e=\"j a\"\n",
    "print(d.isspace()) #True\n",
    "print(e.isspace()) #False"
   ]
  },
  {
   "cell_type": "code",
   "execution_count": 20,
   "metadata": {},
   "outputs": [
    {
     "name": "stdout",
     "output_type": "stream",
     "text": [
      "Upper:3 , Lower:7 , Space:2 , Digit:2\n"
     ]
    }
   ],
   "source": [
    "x=\"Dhruv 77 DHoni\"\n",
    "d=0\n",
    "s=0\n",
    "u=0\n",
    "l=0\n",
    "for i in x:\n",
    "    if i.isupper():\n",
    "        u=u+1\n",
    "    if i.islower() :\n",
    "        l=l+1\n",
    "    if i.isdigit() :\n",
    "        d=d+1\n",
    "    if i.isspace() :\n",
    "        s=s+1\n",
    "print(f\"Upper:{u} , Lower:{l} , Space:{s} , Digit:{d}\")"
   ]
  },
  {
   "cell_type": "code",
   "execution_count": 19,
   "metadata": {},
   "outputs": [
    {
     "name": "stdout",
     "output_type": "stream",
     "text": [
      "0 11\n"
     ]
    }
   ],
   "source": []
  },
  {
   "cell_type": "code",
   "execution_count": null,
   "metadata": {},
   "outputs": [],
   "source": []
  }
 ],
 "metadata": {
  "kernelspec": {
   "display_name": "Python 3",
   "language": "python",
   "name": "python3"
  },
  "language_info": {
   "codemirror_mode": {
    "name": "ipython",
    "version": 3
   },
   "file_extension": ".py",
   "mimetype": "text/x-python",
   "name": "python",
   "nbconvert_exporter": "python",
   "pygments_lexer": "ipython3",
   "version": "3.8.5"
  }
 },
 "nbformat": 4,
 "nbformat_minor": 4
}
