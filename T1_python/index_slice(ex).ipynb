{
 "cells": [
  {
   "cell_type": "code",
   "execution_count": null,
   "metadata": {},
   "outputs": [],
   "source": [
    "#password validation:-\n",
    "\n",
    "s1=True\n",
    "u=0\n",
    "l=0\n",
    "n=0\n",
    "s=0\n",
    "e=0\n",
    "count=0\n",
    "while s1:\n",
    "    x=str(input(\"Enter your password=\"))\n",
    "    if len(x)<8:\n",
    "        count=count+1\n",
    "        print(\"please enter min 8 digit code\")\n",
    "    else:\n",
    "        for i in x:\n",
    "            if i.isupper():\n",
    "                u=u+1\n",
    "            elif i.islower():\n",
    "                l+=1\n",
    "            elif i.isnumeric():\n",
    "                n=n+1\n",
    "            elif i.isspace():\n",
    "                s=s+1\n",
    "            else:\n",
    "                e=e+1\n",
    "        if u>=1 and l>=1 and n>=1 and s==0 and e==1 :\n",
    "            print(\"success\")\n",
    "            break\n",
    "        else:\n",
    "            count=count+1\n",
    "            print(\"please enter password with all the given funtions\")\n",
    "    if count==3:\n",
    "        print(\"you are blocked\")\n",
    "        break"
   ]
  },
  {
   "cell_type": "code",
   "execution_count": null,
   "metadata": {},
   "outputs": [],
   "source": [
    "#\"O\" present in 1st index\n",
    "x=str(input(\"Enter your password=\"))\n",
    "y=x.split(\" \")\n",
    "print(y)\n",
    "for i in y:\n",
    "    if i[0]==\"o\":\n",
    "        print(i)\n",
    "    else:\n",
    "        print(\"no o is present in\",i)"
   ]
  },
  {
   "cell_type": "code",
   "execution_count": null,
   "metadata": {},
   "outputs": [],
   "source": [
    "#reverse string\n",
    "x=str(input(\"Enter your password=\"))\n",
    "y=x.split(\" \")\n",
    "print(y)\n",
    "for i in y:\n",
    "    print(i[::-1])"
   ]
  },
  {
   "cell_type": "code",
   "execution_count": null,
   "metadata": {},
   "outputs": [],
   "source": [
    "#first and last capital\n",
    "x=str(input(\"Enter your password=\"))\n",
    "y=x.split(\" \")\n",
    "print(y)\n",
    "for i in y:\n",
    "    print(i[0].upper()+i[1:-1]+i[-1].upper())"
   ]
  },
  {
   "cell_type": "code",
   "execution_count": 16,
   "metadata": {},
   "outputs": [
    {
     "name": "stdout",
     "output_type": "stream",
     "text": [
      "Enter your number=12345\n",
      "Enter your shift of digit=2\n",
      "34512\n"
     ]
    }
   ],
   "source": [
    "#shifting of number\n",
    "y=int(input(\"Enter your number=\"))\n",
    "z=int(input(\"Enter your shift of digit=\"))\n",
    "x=str(y)\n",
    "shift=str(z)\n",
    "for i in x:\n",
    "    if len(shift)>len(x):\n",
    "        print(x[::-1])\n",
    "        break\n",
    "    else:\n",
    "        if len(shift)<len(x):\n",
    "            print(x[z:]+x[0:z])\n",
    "            break\n",
    "        elif len(shift)==len(x):\n",
    "            print(x)\n",
    "            break\n",
    "        else:\n",
    "            print(\"Enter valid number\")"
   ]
  },
  {
   "cell_type": "code",
   "execution_count": 17,
   "metadata": {},
   "outputs": [
    {
     "name": "stdout",
     "output_type": "stream",
     "text": [
      "Enter your string=jsh72 h1\n",
      "Sum is 10\n",
      "Avg is 3.3333333333333335\n"
     ]
    }
   ],
   "source": [
    "#sum and avg of num in string\n",
    "x=input(\"Enter your string=\")\n",
    "sum1=0\n",
    "d=0\n",
    "for i in x:\n",
    "    if i.isdigit():\n",
    "        d=d+1\n",
    "        sum1=sum1+int(i)\n",
    "print(f\"Sum is {sum1}\")\n",
    "print(f\"Avg is {sum1/d}\")"
   ]
  },
  {
   "cell_type": "code",
   "execution_count": 20,
   "metadata": {},
   "outputs": [
    {
     "name": "stdout",
     "output_type": "stream",
     "text": [
      "['D', 'h', 'r', 'u', 'v']\n",
      "['v', 'u', 'r', 'h', 'D']\n",
      "v\n",
      "D\n"
     ]
    }
   ],
   "source": [
    "x=\"Dhruv\"\n",
    "print(sorted(x)) #['D', 'h', 'r', 'u', 'v']\n",
    "print(sorted(x,reverse=True)) #['v', 'u', 'r', 'h', 'D']\n",
    "print(max(x)) #v\n",
    "print(min(x)) #D"
   ]
  },
  {
   "cell_type": "code",
   "execution_count": 52,
   "metadata": {},
   "outputs": [
    {
     "name": "stdout",
     "output_type": "stream",
     "text": [
      "Enter your string=xyz dhruv\n",
      "Enter your Encreption=3\n",
      " ABC GKUXY\n"
     ]
    }
   ],
   "source": [
    "#incrypted String code\n",
    "x=input(\"Enter your string=\")\n",
    "enc=int(input(\"Enter your Encryption=\"))\n",
    "Final=\" \"\n",
    "x=x.upper()\n",
    "ans=\"ABCDEFGHIJKLMNOPQRSTUVWXYZ\"\n",
    "for i in x:\n",
    "    if i in ans:\n",
    "        op=(ans.find(i)+enc)%26\n",
    "        Final+=ans[op]\n",
    "    else:\n",
    "        Final+=i\n",
    "print(Final)"
   ]
  },
  {
   "cell_type": "code",
   "execution_count": 56,
   "metadata": {},
   "outputs": [
    {
     "name": "stdout",
     "output_type": "stream",
     "text": [
      "Enter your string=dhai amit dave\n",
      "DAD"
     ]
    }
   ],
   "source": [
    "#short form of given string\n",
    "x=input(\"Enter your string=\")\n",
    "x=x.upper()\n",
    "y=x.split()\n",
    "for i in y:\n",
    "    print(i[0],end=\"\") "
   ]
  },
  {
   "cell_type": "code",
   "execution_count": 60,
   "metadata": {},
   "outputs": [
    {
     "name": "stdout",
     "output_type": "stream",
     "text": [
      "Enter your string=mR DaD\n",
      " Mr dAd\n"
     ]
    }
   ],
   "source": [
    "#lower nu upper ane upper nu lower\n",
    "x1=input(\"Enter your string=\")\n",
    "ans=\" \"\n",
    "for i in x1:\n",
    "    if i.isupper():\n",
    "        ans=ans+i.lower()\n",
    "    else :\n",
    "        ans=ans+i.upper()\n",
    "print(ans)"
   ]
  },
  {
   "cell_type": "code",
   "execution_count": null,
   "metadata": {},
   "outputs": [],
   "source": []
  }
 ],
 "metadata": {
  "kernelspec": {
   "display_name": "Python 3",
   "language": "python",
   "name": "python3"
  },
  "language_info": {
   "codemirror_mode": {
    "name": "ipython",
    "version": 3
   },
   "file_extension": ".py",
   "mimetype": "text/x-python",
   "name": "python",
   "nbconvert_exporter": "python",
   "pygments_lexer": "ipython3",
   "version": "3.8.5"
  }
 },
 "nbformat": 4,
 "nbformat_minor": 4
}
